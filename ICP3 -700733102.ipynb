{
 "cells": [
  {
   "cell_type": "markdown",
   "id": "638ac8d9",
   "metadata": {},
   "source": [
    "ICP-3 Neural Networks & Deep Learning\n"
   ]
  },
  {
   "cell_type": "markdown",
   "id": "5d9c0e1b",
   "metadata": {},
   "source": [
    "# Question 1"
   ]
  },
  {
   "cell_type": "markdown",
   "id": "68b70cad",
   "metadata": {},
   "source": [
    "1. Create a class Employee and then do the following\n",
    "• Create a data member to count the number of Employees\n",
    "• Create a constructor to initialize name, family, salary, department\n",
    "• Create a function to average salary\n",
    "• Create a Fulltime Employee class and it should inherit the properties of Employee class\n",
    "• Create the instances of Fulltime Employee class and Employee class and call their member functions.\n"
   ]
  },
  {
   "cell_type": "code",
   "execution_count": 92,
   "id": "35dd5f07",
   "metadata": {},
   "outputs": [
    {
     "name": "stdout",
     "output_type": "stream",
     "text": [
      "\n",
      " Employee Name: Maya \n",
      " Family: Ramula \n",
      " Salary: 25000 \n",
      " Department: ME \n",
      "\n",
      "\n",
      " Employee Name: Dia \n",
      " Family: vanya \n",
      " Salary: 55000 \n",
      " Department: BE \n",
      "\n",
      "\n",
      " Employee Name: raha \n",
      " Family: kapoor \n",
      " Salary: 200000 \n",
      " Department: MCA \n",
      "\n",
      "Total No. of Employees: 3\n",
      "Average Salary of the Employees: 93333.33333333333\n"
     ]
    }
   ],
   "source": [
    "## create Employee class\n",
    "class Employee:\n",
    "    noOfEmployees = 0\n",
    "    empSalary = 0\n",
    "\n",
    "## Creating a constructor to initialize name, family, salary, department\n",
    "    \n",
    "    def __init__(self,name, family, salary, department):\n",
    "        self.name = name\n",
    "        self.family = family\n",
    "        self.salary = salary\n",
    "        self.department = department\n",
    "        Employee.noOfEmployees += 1\n",
    "        Employee.empSalary = Employee.empSalary+self.salary\n",
    "\n",
    "## Creating a function to average salary\n",
    "    def avgSalary(self):\n",
    "        avgSalary = Employee.empSalary/Employee.noOfEmployees\n",
    "        return(print(  \"Average Salary of the Employees:\",  avgSalary))\n",
    "\n",
    "    # This method prints the Employee Details\n",
    "    def displayEmpDetails(self):\n",
    "        print(\"\\n Employee Name:\",self.name, \"\\n Family:\", self.family, \"\\n Salary:\", self.salary, \"\\n Department:\", self.department, \"\\n\")\n",
    "\n",
    "## Creating a Fulltime Employee class and it should inherit the properties of Employee class\n",
    "class FulltimeEmployee(Employee):\n",
    "    def __init__(self,name, family, salary, department):\n",
    "        Employee.__init__(self,name, family, salary, department)\n",
    "\n",
    "\n",
    "a = Employee('Maya', 'Ramula', 25000, 'ME')\n",
    "b = Employee('Dia', 'vanya', 55000, 'BE')\n",
    "c = FulltimeEmployee('raha', 'kapoor', 200000, 'MCA')\n",
    "\n",
    "a.displayEmpDetails()\n",
    "b.displayEmpDetails()\n",
    "c.displayEmpDetails()\n",
    "\n",
    "## Display total employees\n",
    "print(\"Total No. of Employees:\", Employee.noOfEmployees)\n",
    "## Calling AvgSalary method of EmployeeClass\n",
    "a.avgSalary()"
   ]
  },
  {
   "cell_type": "markdown",
   "id": "c9bcd778",
   "metadata": {},
   "source": [
    "# Question 2"
   ]
  },
  {
   "cell_type": "markdown",
   "id": "dd81dd68",
   "metadata": {},
   "source": [
    "2. Numpy\n",
    "Using NumPy create random vector of size 20 having only float in the range 1-20.\n",
    "Then reshape the array to 4 by 5\n",
    "Then replace the max in each row by 0 (axis=1)\n",
    "(you can NOT implement it via for loop)"
   ]
  },
  {
   "cell_type": "code",
   "execution_count": 93,
   "id": "e0b03ae0",
   "metadata": {},
   "outputs": [
    {
     "name": "stdout",
     "output_type": "stream",
     "text": [
      "[[ 3.48508764 13.4228754   0.          9.43347362 12.3210569 ]\n",
      " [ 6.47979115 14.76461031 13.06331745  8.38591067  0.        ]\n",
      " [14.33017386  9.26024599 16.74059017 14.69504615  0.        ]\n",
      " [ 6.83773433  9.19787107  8.16021381  1.68595204  0.        ]]\n"
     ]
    }
   ],
   "source": [
    "import numpy as Np\n",
    "\n",
    "## Creating a random vector of size 20 having only float in the range 1-20.\n",
    "vector = Np.random.uniform(1, 20, 20)\n",
    "\n",
    "## Reshape the array to a 4 by 5 \n",
    "array = Np.reshape(vector, (4, 5))\n",
    "\n",
    "## Replace the max in each row by 0\n",
    "array[Np.arange(4), array.argmax(axis=1)] = 0\n",
    "\n",
    "print(array)"
   ]
  },
  {
   "cell_type": "code",
   "execution_count": null,
   "id": "6d5aea02",
   "metadata": {},
   "outputs": [],
   "source": []
  }
 ],
 "metadata": {
  "kernelspec": {
   "display_name": "Python 3 (ipykernel)",
   "language": "python",
   "name": "python3"
  },
  "language_info": {
   "codemirror_mode": {
    "name": "ipython",
    "version": 3
   },
   "file_extension": ".py",
   "mimetype": "text/x-python",
   "name": "python",
   "nbconvert_exporter": "python",
   "pygments_lexer": "ipython3",
   "version": "3.10.2"
  }
 },
 "nbformat": 4,
 "nbformat_minor": 5
}
